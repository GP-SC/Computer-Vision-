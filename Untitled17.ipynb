{
  "cells": [
    {
      "cell_type": "code",
      "execution_count": 5,
      "metadata": {
        "id": "kqso0bOYfZbK"
      },
      "outputs": [],
      "source": [
        "import numpy as np\n",
        "import cv2\n",
        "import os\n",
        "from sklearn.cluster import KMeans\n",
        "from PIL import Image\n",
        "import matplotlib.pyplot as plt\n",
        "from sklearn.preprocessing import LabelEncoder\n",
        "from sklearn.metrics import accuracy_score\n",
        "from skimage import exposure\n",
        "from sklearn.decomposition import PCA\n",
        "from sklearn.svm import SVC\n",
        "from sklearn.preprocessing import StandardScaler\n",
        "from sklearn.neighbors import KNeighborsClassifier\n",
        "import sys\n",
        "class Image:\n",
        "    def __init__(self, img, label):\n",
        "        self.img = img\n",
        "        self.label = label\n",
        "\n",
        "def Load_Dataset():\n",
        "    currpath=\"Data/Product Classification\"\n",
        "    Classes=os.listdir(currpath)\n",
        "    Classes.sort( key=lambda x: int(x))\n",
        "    Classes=list(map(lambda x:currpath+\"/\"+x,Classes))\n",
        "    X_train,y_train,X_valid,y_valid= [], [], [], []\n",
        "    trainset=[]\n",
        "    validset=[]\n",
        "    mx=(0,0)\n",
        "    for Class in Classes:\n",
        "        trainpart=os.listdir(Class+\"/\"+\"Train\")\n",
        "        trainpart=list(map(lambda x:Class+\"/\"+\"Train\"+\"/\"+x,trainpart))\n",
        "        for file in trainpart:\n",
        "            if \"Augmented\" in file:\n",
        "                print(file);continue\n",
        "            img=cv2.imread(file,0)\n",
        "            label=Class.split(\"/\")[-1]\n",
        "            mx=max(mx,img.shape)\n",
        "            trainset.append(Image(img,label))\n",
        "            X_train.append(img)\n",
        "            y_train.append(label)\n",
        "        if \"Validation\"  not in os.listdir(Class):continue\n",
        "        validpart=os.listdir(Class+\"/\"+\"Validation\")\n",
        "        validpart=list(map(lambda x:Class+\"/\"+\"Validation\"+\"/\"+x,validpart))\n",
        "        for file in validpart:\n",
        "            img=cv2.imread(file,0)\n",
        "            label=Class.split(\"/\")[-1]\n",
        "            validset.append(Image(img,label))\n",
        "            X_valid.append(img)\n",
        "            y_valid.append(label)\n",
        "    return trainset,validset,X_train,y_train,X_valid,y_valid\n",
        "\n",
        "def preprocessing(DataSet):\n",
        "    processed_images = []\n",
        "    labels = []\n",
        "\n",
        "    for image in DataSet:\n",
        "        img = image.img\n",
        "        # Resize the image\n",
        "        # Normalize the image\n",
        "        normalized_image = cv2.normalize(img, None, 0, 255, cv2.NORM_MINMAX).astype('uint8')\n",
        "        # Gaussian Blur\n",
        "        blurred_image = cv2.GaussianBlur(normalized_image, (3, 3), 0)\n",
        "        processed_images.append(blurred_image)\n",
        "        labels.append(image.label)\n",
        "\n",
        "    return processed_images, labels\n",
        "#1- features extraction\n",
        "def extract_sift_features(images,sift):\n",
        "    descriptors_list = []\n",
        "    for img in images:\n",
        "        kp, des = sift.detectAndCompute(img,None)\n",
        "        if des is not None:\n",
        "            descriptors_list.append(des)\n",
        "    return descriptors_list\n",
        "\n",
        "#2 - build vocabulary to finite the descriptors\n",
        "def build_vocabulary(descriptors_list, vocab_size):\n",
        "    descriptors = np.vstack(descriptors_list)\n",
        "    Nclusts=list()\n",
        "    SSR=list()\n",
        "    for i in range(20,vocab_size,10):\n",
        "        print(i)\n",
        "        kmeans = KMeans(n_clusters=i, random_state=1900,)\n",
        "        kmeans.fit(descriptors)\n",
        "        SSR.append(kmeans.inertia_)\n",
        "        Nclusts.append(i)\n",
        "    return SSR,Nclusts"
      ]
    },
    {
      "cell_type": "code",
      "execution_count": 6,
      "metadata": {
        "id": "oPjvJJxzfbjc"
      },
      "outputs": [
        {
          "name": "stdout",
          "output_type": "stream",
          "text": [
            "Data/Product Classification/1/Train/web10Augmented.png\n",
            "Data/Product Classification/1/Train/web11Augmented.png\n",
            "Data/Product Classification/1/Train/web1Augmented.png\n",
            "Data/Product Classification/1/Train/web2Augmented.png\n",
            "Data/Product Classification/1/Train/web3Augmented.png\n",
            "Data/Product Classification/1/Train/web4Augmented.png\n",
            "Data/Product Classification/1/Train/web5Augmented.png\n",
            "Data/Product Classification/1/Train/web6Augmented.png\n",
            "Data/Product Classification/1/Train/web7Augmented.png\n",
            "Data/Product Classification/1/Train/web8Augmented.png\n",
            "Data/Product Classification/1/Train/web9Augmented.png\n",
            "Data/Product Classification/2/Train/web1Augmented.png\n",
            "Data/Product Classification/2/Train/web2Augmented.png\n",
            "Data/Product Classification/2/Train/web3Augmented.png\n",
            "Data/Product Classification/2/Train/web4Augmented.png\n",
            "Data/Product Classification/2/Train/web5Augmented.png\n",
            "Data/Product Classification/2/Train/web6Augmented.png\n",
            "Data/Product Classification/2/Train/web7Augmented.png\n",
            "Data/Product Classification/2/Train/web8Augmented.png\n",
            "Data/Product Classification/3/Train/web1Augmented.png\n",
            "Data/Product Classification/3/Train/web2Augmented.png\n",
            "Data/Product Classification/3/Train/web3Augmented.png\n",
            "Data/Product Classification/3/Train/web4Augmented.png\n",
            "Data/Product Classification/3/Train/web5Augmented.png\n",
            "Data/Product Classification/3/Train/web6Augmented.png\n",
            "Data/Product Classification/3/Train/web7Augmented.png\n",
            "Data/Product Classification/3/Train/web8Augmented.png\n",
            "Data/Product Classification/4/Train/web1Augmented.png\n",
            "Data/Product Classification/4/Train/web2Augmented.png\n",
            "Data/Product Classification/4/Train/web3Augmented.png\n",
            "Data/Product Classification/4/Train/web4Augmented.png\n",
            "Data/Product Classification/4/Train/web5Augmented.png\n",
            "Data/Product Classification/4/Train/web6Augmented.png\n",
            "Data/Product Classification/5/Train/web1Augmented.png\n",
            "Data/Product Classification/5/Train/web2Augmented.png\n",
            "Data/Product Classification/5/Train/web3Augmented.png\n",
            "Data/Product Classification/5/Train/web4Augmented.png\n",
            "Data/Product Classification/5/Train/web5Augmented.png\n",
            "Data/Product Classification/5/Train/web6Augmented.png\n",
            "Data/Product Classification/6/Train/web1Augmented.png\n",
            "Data/Product Classification/6/Train/web2Augmented.png\n",
            "Data/Product Classification/6/Train/web3Augmented.png\n",
            "Data/Product Classification/6/Train/web4Augmented.png\n",
            "Data/Product Classification/6/Train/web5Augmented.png\n",
            "Data/Product Classification/6/Train/web6Augmented.png\n",
            "Data/Product Classification/6/Train/web7Augmented.png\n",
            "Data/Product Classification/6/Train/web8Augmented.png\n",
            "Data/Product Classification/6/Train/web9Augmented.png\n",
            "Data/Product Classification/7/Train/web1Augmented.png\n",
            "Data/Product Classification/7/Train/web2Augmented.png\n",
            "Data/Product Classification/7/Train/web3Augmented.png\n",
            "Data/Product Classification/7/Train/web4Augmented.png\n",
            "Data/Product Classification/7/Train/web5Augmented.png\n",
            "Data/Product Classification/7/Train/web6Augmented.png\n",
            "Data/Product Classification/7/Train/web7Augmented.png\n",
            "Data/Product Classification/8/Train/web1Augmented.png\n",
            "Data/Product Classification/8/Train/web2Augmented.png\n",
            "Data/Product Classification/8/Train/web3Augmented.png\n",
            "Data/Product Classification/8/Train/web4Augmented.png\n",
            "Data/Product Classification/8/Train/web5Augmented.png\n",
            "Data/Product Classification/8/Train/web6Augmented.png\n",
            "Data/Product Classification/8/Train/web7Augmented.png\n",
            "Data/Product Classification/9/Train/web1Augmented.png\n",
            "Data/Product Classification/9/Train/web2Augmented.png\n",
            "Data/Product Classification/9/Train/web3Augmented.png\n",
            "Data/Product Classification/9/Train/web4Augmented.png\n",
            "Data/Product Classification/9/Train/web5Augmented.png\n",
            "Data/Product Classification/9/Train/web6Augmented.png\n",
            "Data/Product Classification/9/Train/web7Augmented.png\n",
            "Data/Product Classification/10/Train/web1Augmented.png\n",
            "Data/Product Classification/10/Train/web2Augmented.png\n",
            "Data/Product Classification/10/Train/web3Augmented.png\n",
            "Data/Product Classification/10/Train/web4Augmented.png\n",
            "Data/Product Classification/10/Train/web5Augmented.png\n",
            "Data/Product Classification/10/Train/web6Augmented.png\n",
            "Data/Product Classification/11/Train/web1Augmented.png\n",
            "Data/Product Classification/11/Train/web2Augmented.png\n",
            "Data/Product Classification/11/Train/web3Augmented.png\n",
            "Data/Product Classification/11/Train/web4Augmented.png\n",
            "Data/Product Classification/11/Train/web5Augmented.png\n",
            "Data/Product Classification/11/Train/web6Augmented.png\n",
            "Data/Product Classification/11/Train/web7Augmented.png\n",
            "Data/Product Classification/12/Train/web1Augmented.png\n",
            "Data/Product Classification/12/Train/web2Augmented.png\n",
            "Data/Product Classification/12/Train/web3Augmented.png\n",
            "Data/Product Classification/12/Train/web4Augmented.png\n",
            "Data/Product Classification/12/Train/web5Augmented.png\n",
            "Data/Product Classification/12/Train/web6Augmented.png\n",
            "Data/Product Classification/12/Train/web7Augmented.png\n",
            "Data/Product Classification/13/Train/web1Augmented.png\n",
            "Data/Product Classification/13/Train/web2Augmented.png\n",
            "Data/Product Classification/13/Train/web3Augmented.png\n",
            "Data/Product Classification/13/Train/web4Augmented.png\n",
            "Data/Product Classification/13/Train/web5Augmented.png\n",
            "Data/Product Classification/13/Train/web6Augmented.png\n",
            "Data/Product Classification/14/Train/web1Augmented.png\n",
            "Data/Product Classification/14/Train/web2Augmented.png\n",
            "Data/Product Classification/14/Train/web3Augmented.png\n",
            "Data/Product Classification/14/Train/web4Augmented.png\n",
            "Data/Product Classification/14/Train/web5Augmented.png\n",
            "Data/Product Classification/14/Train/web6Augmented.png\n",
            "Data/Product Classification/15/Train/web1Augmented.png\n",
            "Data/Product Classification/15/Train/web2Augmented.png\n",
            "Data/Product Classification/15/Train/web3Augmented.png\n",
            "Data/Product Classification/15/Train/web4Augmented.png\n",
            "Data/Product Classification/15/Train/web5Augmented.png\n",
            "Data/Product Classification/15/Train/web6Augmented.png\n",
            "Data/Product Classification/16/Train/web1Augmented.png\n",
            "Data/Product Classification/16/Train/web2Augmented.png\n",
            "Data/Product Classification/16/Train/web3Augmented.png\n",
            "Data/Product Classification/16/Train/web4Augmented.png\n",
            "Data/Product Classification/16/Train/web5Augmented.png\n",
            "Data/Product Classification/16/Train/web6Augmented.png\n",
            "Data/Product Classification/16/Train/web7Augmented.png\n",
            "Data/Product Classification/17/Train/web1Augmented.png\n",
            "Data/Product Classification/17/Train/web2Augmented.png\n",
            "Data/Product Classification/17/Train/web3Augmented.png\n",
            "Data/Product Classification/17/Train/web4Augmented.png\n",
            "Data/Product Classification/17/Train/web5Augmented.png\n",
            "Data/Product Classification/17/Train/web6Augmented.png\n",
            "Data/Product Classification/17/Train/web7Augmented.png\n",
            "Data/Product Classification/18/Train/web1Augmented.png\n",
            "Data/Product Classification/18/Train/web2Augmented.png\n",
            "Data/Product Classification/18/Train/web3Augmented.png\n",
            "Data/Product Classification/18/Train/web4Augmented.png\n",
            "Data/Product Classification/18/Train/web5Augmented.png\n",
            "Data/Product Classification/18/Train/web6Augmented.png\n",
            "Data/Product Classification/18/Train/web7Augmented.png\n",
            "Data/Product Classification/19/Train/web1Augmented.png\n",
            "Data/Product Classification/19/Train/web2Augmented.png\n",
            "Data/Product Classification/19/Train/web3Augmented.png\n",
            "Data/Product Classification/19/Train/web4Augmented.png\n",
            "Data/Product Classification/19/Train/web5Augmented.png\n",
            "Data/Product Classification/19/Train/web6Augmented.png\n",
            "Data/Product Classification/20/Train/web1Augmented.png\n",
            "Data/Product Classification/20/Train/web2Augmented.png\n",
            "Data/Product Classification/20/Train/web3Augmented.png\n",
            "Data/Product Classification/20/Train/web4Augmented.png\n",
            "Data/Product Classification/20/Train/web5Augmented.png\n",
            "Data/Product Classification/20/Train/web6Augmented.png\n",
            "Finished\n",
            "20\n"
          ]
        },
        {
          "name": "stderr",
          "output_type": "stream",
          "text": [
            "c:\\Users\\user\\anaconda3\\Lib\\site-packages\\sklearn\\cluster\\_kmeans.py:1412: FutureWarning: The default value of `n_init` will change from 10 to 'auto' in 1.4. Set the value of `n_init` explicitly to suppress the warning\n",
            "  super()._check_params_vs_input(X, default_n_init=10)\n"
          ]
        },
        {
          "name": "stdout",
          "output_type": "stream",
          "text": [
            "30\n"
          ]
        },
        {
          "name": "stderr",
          "output_type": "stream",
          "text": [
            "c:\\Users\\user\\anaconda3\\Lib\\site-packages\\sklearn\\cluster\\_kmeans.py:1412: FutureWarning: The default value of `n_init` will change from 10 to 'auto' in 1.4. Set the value of `n_init` explicitly to suppress the warning\n",
            "  super()._check_params_vs_input(X, default_n_init=10)\n"
          ]
        },
        {
          "name": "stdout",
          "output_type": "stream",
          "text": [
            "40\n"
          ]
        },
        {
          "name": "stderr",
          "output_type": "stream",
          "text": [
            "c:\\Users\\user\\anaconda3\\Lib\\site-packages\\sklearn\\cluster\\_kmeans.py:1412: FutureWarning: The default value of `n_init` will change from 10 to 'auto' in 1.4. Set the value of `n_init` explicitly to suppress the warning\n",
            "  super()._check_params_vs_input(X, default_n_init=10)\n"
          ]
        },
        {
          "name": "stdout",
          "output_type": "stream",
          "text": [
            "50\n"
          ]
        },
        {
          "name": "stderr",
          "output_type": "stream",
          "text": [
            "c:\\Users\\user\\anaconda3\\Lib\\site-packages\\sklearn\\cluster\\_kmeans.py:1412: FutureWarning: The default value of `n_init` will change from 10 to 'auto' in 1.4. Set the value of `n_init` explicitly to suppress the warning\n",
            "  super()._check_params_vs_input(X, default_n_init=10)\n"
          ]
        },
        {
          "name": "stdout",
          "output_type": "stream",
          "text": [
            "60\n"
          ]
        },
        {
          "name": "stderr",
          "output_type": "stream",
          "text": [
            "c:\\Users\\user\\anaconda3\\Lib\\site-packages\\sklearn\\cluster\\_kmeans.py:1412: FutureWarning: The default value of `n_init` will change from 10 to 'auto' in 1.4. Set the value of `n_init` explicitly to suppress the warning\n",
            "  super()._check_params_vs_input(X, default_n_init=10)\n"
          ]
        },
        {
          "name": "stdout",
          "output_type": "stream",
          "text": [
            "70\n"
          ]
        },
        {
          "name": "stderr",
          "output_type": "stream",
          "text": [
            "c:\\Users\\user\\anaconda3\\Lib\\site-packages\\sklearn\\cluster\\_kmeans.py:1412: FutureWarning: The default value of `n_init` will change from 10 to 'auto' in 1.4. Set the value of `n_init` explicitly to suppress the warning\n",
            "  super()._check_params_vs_input(X, default_n_init=10)\n"
          ]
        },
        {
          "name": "stdout",
          "output_type": "stream",
          "text": [
            "80\n"
          ]
        },
        {
          "name": "stderr",
          "output_type": "stream",
          "text": [
            "c:\\Users\\user\\anaconda3\\Lib\\site-packages\\sklearn\\cluster\\_kmeans.py:1412: FutureWarning: The default value of `n_init` will change from 10 to 'auto' in 1.4. Set the value of `n_init` explicitly to suppress the warning\n",
            "  super()._check_params_vs_input(X, default_n_init=10)\n"
          ]
        },
        {
          "name": "stdout",
          "output_type": "stream",
          "text": [
            "90\n"
          ]
        },
        {
          "name": "stderr",
          "output_type": "stream",
          "text": [
            "c:\\Users\\user\\anaconda3\\Lib\\site-packages\\sklearn\\cluster\\_kmeans.py:1412: FutureWarning: The default value of `n_init` will change from 10 to 'auto' in 1.4. Set the value of `n_init` explicitly to suppress the warning\n",
            "  super()._check_params_vs_input(X, default_n_init=10)\n"
          ]
        },
        {
          "name": "stdout",
          "output_type": "stream",
          "text": [
            "100\n"
          ]
        },
        {
          "name": "stderr",
          "output_type": "stream",
          "text": [
            "c:\\Users\\user\\anaconda3\\Lib\\site-packages\\sklearn\\cluster\\_kmeans.py:1412: FutureWarning: The default value of `n_init` will change from 10 to 'auto' in 1.4. Set the value of `n_init` explicitly to suppress the warning\n",
            "  super()._check_params_vs_input(X, default_n_init=10)\n"
          ]
        },
        {
          "name": "stdout",
          "output_type": "stream",
          "text": [
            "110\n"
          ]
        },
        {
          "name": "stderr",
          "output_type": "stream",
          "text": [
            "c:\\Users\\user\\anaconda3\\Lib\\site-packages\\sklearn\\cluster\\_kmeans.py:1412: FutureWarning: The default value of `n_init` will change from 10 to 'auto' in 1.4. Set the value of `n_init` explicitly to suppress the warning\n",
            "  super()._check_params_vs_input(X, default_n_init=10)\n"
          ]
        },
        {
          "name": "stdout",
          "output_type": "stream",
          "text": [
            "120\n"
          ]
        },
        {
          "name": "stderr",
          "output_type": "stream",
          "text": [
            "c:\\Users\\user\\anaconda3\\Lib\\site-packages\\sklearn\\cluster\\_kmeans.py:1412: FutureWarning: The default value of `n_init` will change from 10 to 'auto' in 1.4. Set the value of `n_init` explicitly to suppress the warning\n",
            "  super()._check_params_vs_input(X, default_n_init=10)\n"
          ]
        },
        {
          "name": "stdout",
          "output_type": "stream",
          "text": [
            "130\n"
          ]
        },
        {
          "name": "stderr",
          "output_type": "stream",
          "text": [
            "c:\\Users\\user\\anaconda3\\Lib\\site-packages\\sklearn\\cluster\\_kmeans.py:1412: FutureWarning: The default value of `n_init` will change from 10 to 'auto' in 1.4. Set the value of `n_init` explicitly to suppress the warning\n",
            "  super()._check_params_vs_input(X, default_n_init=10)\n"
          ]
        },
        {
          "name": "stdout",
          "output_type": "stream",
          "text": [
            "140\n"
          ]
        },
        {
          "name": "stderr",
          "output_type": "stream",
          "text": [
            "c:\\Users\\user\\anaconda3\\Lib\\site-packages\\sklearn\\cluster\\_kmeans.py:1412: FutureWarning: The default value of `n_init` will change from 10 to 'auto' in 1.4. Set the value of `n_init` explicitly to suppress the warning\n",
            "  super()._check_params_vs_input(X, default_n_init=10)\n"
          ]
        }
      ],
      "source": [
        "trainset,validset,X_train,y_train,X_valid,y_valid=Load_Dataset()\n",
        "X_train_processed, y_train_processed = preprocessing(trainset)\n",
        "X_valid_processed, y_valid_processed = preprocessing(validset)\n",
        "sift = cv2.SIFT_create()\n",
        "X_train_desc=extract_sift_features(X_train_processed,sift)\n",
        "X_valid_desc=extract_sift_features(X_valid_processed,sift)\n",
        "print(\"Finished\")\n",
        "SSR,Nclusts=build_vocabulary(X_train_desc,150)"
      ]
    },
    {
      "cell_type": "code",
      "execution_count": 7,
      "metadata": {},
      "outputs": [
        {
          "data": {
            "text/plain": [
              "[3886595328.0,\n",
              " 3680027136.0,\n",
              " 3547522816.0,\n",
              " 3447450624.0,\n",
              " 3369368064.0,\n",
              " 3300349440.0,\n",
              " 3241067264.0,\n",
              " 3187691520.0,\n",
              " 3143017472.0,\n",
              " 3106600960.0,\n",
              " 3070556160.0,\n",
              " 3036254976.0,\n",
              " 3008779776.0]"
            ]
          },
          "execution_count": 7,
          "metadata": {},
          "output_type": "execute_result"
        }
      ],
      "source": [
        "SSR"
      ]
    },
    {
      "cell_type": "code",
      "execution_count": 10,
      "metadata": {},
      "outputs": [
        {
          "data": {
            "image/png": "[encoded data removed]",
            "text/plain": [
              "<Figure size 640x480 with 1 Axes>"
            ]
          },
          "metadata": {},
          "output_type": "display_data"
        }
      ],
      "source": [
        "import matplotlib.pyplot as plt\n",
        "\n",
        "# Plot training & validation accuracy values\n",
        "plt.plot(SSR,scalex=Nclusts)\n",
        "plt.show()\n",
        "\n",
        "# Evaluate the model on the test dataset\n"
      ]
    },
    {
      "cell_type": "code",
      "execution_count": null,
      "metadata": {},
      "outputs": [],
      "source": []
    }
  ],
  "metadata": {
    "colab": {
      "provenance": []
    },
    "kernelspec": {
      "display_name": "Python 3",
      "name": "python3"
    },
    "language_info": {
      "codemirror_mode": {
        "name": "ipython",
        "version": 3
      },
      "file_extension": ".py",
      "mimetype": "text/x-python",
      "name": "python",
      "nbconvert_exporter": "python",
      "pygments_lexer": "ipython3",
      "version": "3.11.5"
    }
  },
  "nbformat": 4,
  "nbformat_minor": 0
}
